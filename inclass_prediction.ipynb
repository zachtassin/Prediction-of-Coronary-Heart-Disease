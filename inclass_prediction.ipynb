{
 "cells": [
  {
   "cell_type": "code",
   "execution_count": null,
   "id": "4d501ae5",
   "metadata": {},
   "outputs": [],
   "source": [
    "import numpy as np\n",
    "import pandas as pd\n",
    "from sklearn.model_selection import train_test_split\n",
    "from sklearn.datasets import load_breast_cancer\n",
    "from sklearn.metrics import accuracy_score\n",
    "from sklearn.linear_model import LogisticRegression"
   ]
  },
  {
   "cell_type": "code",
   "execution_count": null,
   "id": "181a77e1",
   "metadata": {},
   "outputs": [],
   "source": [
    "class CustomLogisticRegression:\n",
    "    def __init__(self, learning_rate=0.1):\n",
    "        self.weights = None\n",
    "        self.bias = 0\n",
    "        self.learning_rate = learning_rate\n",
    "        self.train_accuracies = []\n",
    "        self.losses = []\n",
    "\n",
    "    def _sigmoid(self, x):\n",
    "        x = np.clip(x, -500, 500)\n",
    "        return 1 / (1 + np.exp(-x))\n",
    "\n",
    "    def compute_loss(self, y_true, y_pred):\n",
    "        y_zero_loss = y_true * np.log(y_pred + 1e-9)\n",
    "        y_one_loss = (1 - y_true) * np.log(1 - y_pred + 1e-9)\n",
    "        return -np.mean(y_zero_loss + y_one_loss)\n",
    "\n",
    "    def compute_gradients(self, x, y_true, y_pred):\n",
    "        difference = y_pred - y_true\n",
    "        gradient_b = np.mean(difference)\n",
    "        gradients_w = np.dot(x.T, difference) / len(y_true)\n",
    "        return gradients_w, gradient_b\n",
    "\n",
    "    def update_model_parameters(self, error_w, error_b):\n",
    "        self.weights -= self.learning_rate * error_w\n",
    "        self.bias -= self.learning_rate * error_b\n",
    "\n",
    "    def fit(self, x, y, epochs=150):\n",
    "        x = np.array(x)\n",
    "        y = np.array(y)\n",
    "\n",
    "        self.weights = np.zeros(x.shape[1])\n",
    "        self.bias = 0\n",
    "\n",
    "        for _ in range(epochs):\n",
    "            linear_model = np.dot(x, self.weights) + self.bias\n",
    "            predictions = self._sigmoid(linear_model)\n",
    "            loss = self.compute_loss(y, predictions)\n",
    "\n",
    "            error_w, error_b = self.compute_gradients(x, y, predictions)\n",
    "            self.update_model_parameters(error_w, error_b)\n",
    "\n",
    "            predicted_classes = [1 if p > 0.5 else 0 for p in predictions]\n",
    "            self.train_accuracies.append(accuracy_score(y, predicted_classes))\n",
    "            self.losses.append(loss)\n",
    "\n",
    "    def predict(self, x):\n",
    "        linear_model = np.dot(x, self.weights) + self.bias\n",
    "        probabilities = self._sigmoid(linear_model)\n",
    "        return np.array([1 if p > 0.5 else 0 for p in probabilities])"
   ]
  },
  {
   "cell_type": "code",
   "execution_count": null,
   "id": "c8fa54a5",
   "metadata": {},
   "outputs": [],
   "source": [
    "def load_data():\n",
    "    dataset = load_breast_cancer()\n",
    "    x = pd.DataFrame(dataset.data, columns=dataset.feature_names)\n",
    "    y = pd.Series(dataset.target, name=\"target\")\n",
    "    return train_test_split(x, y, test_size=0.2, random_state=42)"
   ]
  },
  {
   "cell_type": "code",
   "execution_count": null,
   "id": "c0f13d9c",
   "metadata": {},
   "outputs": [],
   "source": [
    "x_train, x_test, y_train, y_test = load_data()\n",
    "\n",
    "x_train = x_train.astype(float)\n",
    "x_test = x_test.astype(float)\n",
    "\n",
    "custom_lr = CustomLogisticRegression()\n",
    "custom_lr.fit(x_train, y_train, epochs=150)\n",
    "\n",
    "custom_predictions = custom_lr.predict(x_test)\n",
    "custom_accuracy = accuracy_score(y_test, custom_predictions)\n",
    "print(f\"Custom Logistic Regression Accuracy: {custom_accuracy:.4f}\")"
   ]
  },
  {
   "cell_type": "code",
   "execution_count": null,
   "id": "2e8c27f6",
   "metadata": {},
   "outputs": [],
   "source": [
    "sklearn_lr = LogisticRegression(solver='newton-cg', max_iter=150)\n",
    "sklearn_lr.fit(x_train, y_train)\n",
    "\n",
    "sklearn_predictions = sklearn_lr.predict(x_test)\n",
    "sklearn_accuracy = accuracy_score(y_test, sklearn_predictions)\n",
    "print(f\"Scikit-learn Logistic Regression Accuracy: {sklearn_accuracy:.4f}\")"
   ]
  }
 ],
 "metadata": {
  "language_info": {
   "name": "python"
  }
 },
 "nbformat": 4,
 "nbformat_minor": 5
}
